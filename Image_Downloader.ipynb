{
 "cells": [
  {
   "cell_type": "markdown",
   "metadata": {},
   "source": [
    "# Image Downloader - Download Images from Pixabay via API"
   ]
  },
  {
   "cell_type": "markdown",
   "metadata": {},
   "source": [
    "## Define Functions"
   ]
  },
  {
   "cell_type": "code",
   "execution_count": 5,
   "metadata": {},
   "outputs": [],
   "source": [
    "import requests\n",
    "import os\n",
    "import re\n",
    "from PIL import Image\n",
    "from dotenv import load_dotenv\n",
    "\n",
    "\n",
    "def clean_image_url(url, max_length=255):\n",
    "    url = url.replace('https://pixabay.com/get/', '')\n",
    "    if url.startswith(('http://', 'https://')):\n",
    "        url = url.split('//')[-1]\n",
    "\n",
    "    clean_name = re.sub(r'[\\/:*?\"<>|]', '_', url)\n",
    "    clean_name = clean_name.replace(' ', '_')\n",
    "    clean_name = clean_name.strip('_')\n",
    "\n",
    "    if len(clean_name) > max_length:\n",
    "        clean_name = clean_name[:max_length]\n",
    "\n",
    "    return clean_name\n",
    "\n",
    "\n",
    "def loadImages(animal):\n",
    "    load_dotenv()\n",
    "    API_KEY = os.getenv('API_KEY')\n",
    "    url = 'https://pixabay.com/api/'\n",
    "    params = {\n",
    "        'key': API_KEY,\n",
    "        'q': animal,\n",
    "        'image_type': 'photo',\n",
    "        'per_page': 200,\n",
    "    }\n",
    "    path = 'images_download'\n",
    "\n",
    "    response = requests.get(url, params=params)\n",
    "    data = response.json()\n",
    "    print(data)\n",
    "\n",
    "    if data['hits']:\n",
    "\n",
    "        for image in data['hits']:\n",
    "\n",
    "            image_url = image['webformatURL']\n",
    "            image_response = requests.get(image_url)\n",
    "            cleaned_url = clean_image_url(image_url)\n",
    "\n",
    "            file_extensions = ['jpg', 'jpeg', 'webp', 'png']\n",
    "            if any(os.path.exists(f'{path}/{animal}/{cleaned_url}.{ext}') for ext in file_extensions):\n",
    "                print(f'File {path}/{animal}/{cleaned_url} already exists.')\n",
    "\n",
    "            else:\n",
    "                with open(f'{path}/{animal}/{cleaned_url}', 'wb') as f:\n",
    "                    f.write(image_response.content)\n",
    "        print(\"Image download completed.\")\n",
    "    else:\n",
    "        print(\"No Images found.\")\n",
    "        \n",
    "\n",
    "def remove_invalid_file(animal):\n",
    "\n",
    "    directory = f'images_download/{animal}'\n",
    "\n",
    "    for filename in os.listdir(directory):\n",
    "        file_path = os.path.join(directory, filename)\n",
    "        try:\n",
    "            Image.open(file_path)\n",
    "        except (IOError, OSError):\n",
    "            print(f'No Valid Image Available: {file_path}')\n",
    "            os.remove(file_path)\n",
    "        except:\n",
    "            print(\"Unknown Exception\")\n",
    "            os.remove(file_path)\n",
    "\n",
    "def renameFiles(animial):\n",
    "    directory = f'images_download/{animial}'\n",
    "\n",
    "    files = os.listdir(directory)\n",
    "\n",
    "    image_extensions = ('.jpg', '.jpeg', '.png', '.gif', '.bmp', '.webp')\n",
    "    image_files = [f for f in files if f.lower().endswith(image_extensions)]\n",
    "\n",
    "    for index, filename in enumerate(image_files, start=1):\n",
    "        old_file_path = os.path.join(directory, filename)\n",
    "    \n",
    "        new_name = f\"{index}{os.path.splitext(filename)[1]}\"  \n",
    "        new_file_path = os.path.join(directory, new_name)\n",
    "\n",
    "        os.rename(old_file_path, new_file_path)\n",
    "        print(f\"Renamed: {old_file_path} to {new_file_path}\")\n",
    "\n",
    "    print(\"All image files have been renamed successfully.\")"
   ]
  },
  {
   "cell_type": "markdown",
   "metadata": {},
   "source": [
    "## Load Dog Images"
   ]
  },
  {
   "cell_type": "code",
   "execution_count": null,
   "metadata": {},
   "outputs": [],
   "source": [
    "while True:\n",
    "    try:\n",
    "        loadImages('dog')\n",
    "    except Exception as e:\n",
    "        print(\"start again\")\n",
    "        print(f\"Exception message: {e}\")"
   ]
  },
  {
   "cell_type": "markdown",
   "metadata": {},
   "source": [
    "## Load Cat Images"
   ]
  },
  {
   "cell_type": "code",
   "execution_count": null,
   "metadata": {},
   "outputs": [],
   "source": [
    "while True:\n",
    "    try:\n",
    "        loadImages('cat')\n",
    "    except Exception as e:\n",
    "        print(\"start again\")\n",
    "        print(f\"Exception message: {e}\")"
   ]
  },
  {
   "cell_type": "markdown",
   "metadata": {},
   "source": [
    "## Load Horse Images"
   ]
  },
  {
   "cell_type": "code",
   "execution_count": null,
   "metadata": {},
   "outputs": [],
   "source": [
    "while True:\n",
    "    try:\n",
    "        loadImages('horse')\n",
    "    except Exception as e:\n",
    "        print(\"start again\")\n",
    "        print(f\"Exception message: {e}\")"
   ]
  },
  {
   "cell_type": "markdown",
   "metadata": {},
   "source": [
    "## Remove Invalid Files"
   ]
  },
  {
   "cell_type": "code",
   "execution_count": null,
   "metadata": {},
   "outputs": [],
   "source": [
    "while True:\n",
    "    remove_invalid_file('cat')\n",
    "    print(\"remove action done\")"
   ]
  },
  {
   "cell_type": "code",
   "execution_count": null,
   "metadata": {},
   "outputs": [],
   "source": [
    "while True:\n",
    "    remove_invalid_file('dog')\n",
    "    print(\"remove action done\")"
   ]
  },
  {
   "cell_type": "code",
   "execution_count": null,
   "metadata": {},
   "outputs": [],
   "source": [
    "while True:\n",
    "    remove_invalid_file('horse')\n",
    "    print(\"remove action done\")"
   ]
  },
  {
   "cell_type": "markdown",
   "metadata": {},
   "source": [
    "## Image File Renaming"
   ]
  },
  {
   "cell_type": "code",
   "execution_count": null,
   "metadata": {},
   "outputs": [],
   "source": [
    "renameFiles('cat')\n",
    "renameFiles('dog')\n",
    "renameFiles('horse')"
   ]
  }
 ],
 "metadata": {
  "kernelspec": {
   "display_name": "env",
   "language": "python",
   "name": "python3"
  },
  "language_info": {
   "codemirror_mode": {
    "name": "ipython",
    "version": 3
   },
   "file_extension": ".py",
   "mimetype": "text/x-python",
   "name": "python",
   "nbconvert_exporter": "python",
   "pygments_lexer": "ipython3",
   "version": "3.11.9"
  }
 },
 "nbformat": 4,
 "nbformat_minor": 2
}
